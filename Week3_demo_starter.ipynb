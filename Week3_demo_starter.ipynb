{
 "cells": [
  {
   "cell_type": "markdown",
   "id": "5deb7fcd-fc78-4c9b-aa5a-60d54e325c44",
   "metadata": {},
   "source": [
    "# Week 3 demos"
   ]
  },
  {
   "cell_type": "markdown",
   "id": "40a453fd-9446-47d8-999b-072e799fe67b",
   "metadata": {},
   "source": [
    "## Debugging example"
   ]
  },
  {
   "cell_type": "code",
   "execution_count": null,
   "id": "0c1aba56-a786-4aad-9614-127057982160",
   "metadata": {},
   "outputs": [],
   "source": [
    "speed = 1.79 # m/s\n",
    "time = 3600 # 1 hour = 3600 s\n",
    "\n",
    "print(\"distance travelled = \" + round(str(speed * time / 1000, 2)) + \" km\")"
   ]
  },
  {
   "cell_type": "markdown",
   "id": "d435a511-2d8c-4b99-843c-099dbb0aa05e",
   "metadata": {},
   "source": [
    "## If/elif/else statements"
   ]
  },
  {
   "cell_type": "markdown",
   "id": "22030ec6-f6a8-44e3-8bb0-384b0b550115",
   "metadata": {},
   "source": [
    "Simple `if` statement"
   ]
  },
  {
   "cell_type": "code",
   "execution_count": null,
   "id": "639a41a8-8e76-4863-9b7a-edde58e6982b",
   "metadata": {},
   "outputs": [],
   "source": [
    "temp = 35 # °C\n",
    "\n",
    "if temp > 30:\n",
    "    print(\"Warning: heat alert!\")"
   ]
  },
  {
   "cell_type": "markdown",
   "id": "fc58b2ee-4130-4e2b-9578-0774fe240882",
   "metadata": {},
   "source": [
    "Using both `if` and `else`"
   ]
  },
  {
   "cell_type": "code",
   "execution_count": null,
   "id": "4f2e284c-972d-4a66-8b02-bfd9960050d2",
   "metadata": {},
   "outputs": [],
   "source": [
    "temp = 20 # °C\n",
    "\n",
    "if temp > 30:\n",
    "    print(\"Warning: heat alert!\")\n",
    "else:\n",
    "    print(\"Enjoy the weather\")"
   ]
  },
  {
   "cell_type": "markdown",
   "id": "580c459a-eda0-4eb1-9f62-f72bdf4e857d",
   "metadata": {},
   "source": [
    "Two independent `if` statements"
   ]
  },
  {
   "cell_type": "code",
   "execution_count": null,
   "id": "b5a1c963-adac-4ad5-a0c1-42955be12b92",
   "metadata": {},
   "outputs": [],
   "source": [
    "temp = -10 # °C\n",
    "\n",
    "if temp > 30:\n",
    "    print(\"Warning: heat alert!\")\n",
    "\n",
    "if temp < -5:\n",
    "    print(\"Warning: extreme cold!\")"
   ]
  },
  {
   "cell_type": "markdown",
   "id": "4919d49b-2ebc-4a4b-9f2f-581a0530c508",
   "metadata": {},
   "source": [
    "Alternative: using `elif`"
   ]
  },
  {
   "cell_type": "code",
   "execution_count": null,
   "id": "cf1772a9-cc22-4a34-aecb-cc630cb7f207",
   "metadata": {},
   "outputs": [],
   "source": [
    "temp = -10 # °C\n",
    "\n",
    "if temp > 30:\n",
    "    print(\"Warning: heat alert!\")\n",
    "elif temp < -5:\n",
    "    print(\"Warning: extreme cold!\")"
   ]
  },
  {
   "cell_type": "markdown",
   "id": "144660ae-3521-485e-9a1a-8a400760dbc0",
   "metadata": {
    "editable": true,
    "slideshow": {
     "slide_type": ""
    },
    "tags": []
   },
   "source": [
    "### Poll #1 (debugging)\n",
    "\n",
    "The code below is meant to print a different message depending on temperature. It will either warn that the temperature is too hot, too cold, or say that the temperature is moderate.\n",
    "\n",
    "As shown below the code does not work as intended. Identify what problem(s) the code may have\n",
    "\n",
    "(Optional) If time permits, also consider how you might fix the code"
   ]
  },
  {
   "cell_type": "code",
   "execution_count": null,
   "id": "598a6d11-52c1-46d6-ae49-595da76a4aa1",
   "metadata": {
    "editable": true,
    "slideshow": {
     "slide_type": ""
    },
    "tags": [
     "raises-exception"
    ]
   },
   "outputs": [],
   "source": [
    "temp = 20 # °C\n",
    "\n",
    "if temp > 30\n",
    "print(\"Warning: heat alert!\")\n",
    "else\n",
    "print(\"The temperature is moderate\")\n",
    "\n",
    "if temp < -5\n",
    "print(\"Warning: extreme cold!\")\n",
    "else\n",
    "print(\"The temperature is moderate\")"
   ]
  },
  {
   "cell_type": "markdown",
   "id": "f403e486-3c48-48b7-ae35-f6042661a484",
   "metadata": {},
   "source": [
    "### Poll #2 (think-pair-share; JupyterHub **off**)\n",
    "What is the output of the cell below?\n",
    "```python\n",
    "x = 2\n",
    "y = -1\n",
    "\n",
    "if y < 0:\n",
    "    print(\"x-squared is greater than y\")\n",
    "else:\n",
    "    if x ** 2 < y:\n",
    "        print(\"x-squared is less than y\")\n",
    "    elif x ** 2 == y:\n",
    "        print(\"x-squared is equal to y\")\n",
    "    else:\n",
    "        print(\"x-squared is greater than y\")\n",
    "```"
   ]
  },
  {
   "cell_type": "markdown",
   "id": "c0f51d76-390d-4ed8-87a2-176b72168f0f",
   "metadata": {},
   "source": [
    "### Poll #3 (think-pair-share)\n",
    "Run the following code and try changing the `rain_chance` variable. What range of values for `rain_chance` will trigger the `else` statement?"
   ]
  },
  {
   "cell_type": "code",
   "execution_count": null,
   "id": "ea696da8-346f-494e-8348-0791b84f4314",
   "metadata": {},
   "outputs": [],
   "source": [
    "rain_chance = ... # chance in percentage\n",
    "\n",
    "if rain_chance >= 50:\n",
    "  print('Ugh... I better bring an umbrella.')\n",
    "elif rain_chance == 0:\n",
    "  print('I definitely will not need an umbrella.')\n",
    "elif rain_chance <= 20:\n",
    "  print('I should be okay without an umbrella.')\n",
    "else:\n",
    "  print('I am not sure what to do.')"
   ]
  },
  {
   "cell_type": "markdown",
   "id": "0d6dc55c-c07c-4938-a091-46a9d18bedcf",
   "metadata": {},
   "source": [
    "## Range objects and loops"
   ]
  },
  {
   "cell_type": "code",
   "execution_count": null,
   "id": "9000f3e1-e0cd-4198-9464-f2ff5ed085d8",
   "metadata": {},
   "outputs": [],
   "source": [
    "range?"
   ]
  },
  {
   "cell_type": "markdown",
   "id": "0cb60fca-b20b-4e86-bff3-37dd7c628273",
   "metadata": {},
   "source": [
    "**We use range often in for loops because it is immutable, simple, and doesn't take up RAM**"
   ]
  },
  {
   "cell_type": "code",
   "execution_count": null,
   "id": "829fa4ee-334b-4595-b7cb-bf9529300a9b",
   "metadata": {},
   "outputs": [],
   "source": [
    "for i in range(5): # Starts at 0, goes UP TO BUT DOES NOT INCLUDE 5\n",
    "    print(i)"
   ]
  },
  {
   "cell_type": "code",
   "execution_count": null,
   "id": "94d04801-7070-4760-b536-ec7fafa93072",
   "metadata": {},
   "outputs": [],
   "source": [
    "for i in range(3, 10): # Starts at 3, goes UP TO BUT DOES NOT INCLUDE 10\n",
    "    print(i)"
   ]
  },
  {
   "cell_type": "code",
   "execution_count": null,
   "id": "d0f168fe-93d6-4a37-9349-bf4d5f7d6dae",
   "metadata": {},
   "outputs": [],
   "source": [
    "for i in range(0, 10, 2): # Starts at 0, goes UP TO 10 BUT DOES NOT INCLUDE 10 by steps of 2\n",
    "    print(i)"
   ]
  },
  {
   "cell_type": "code",
   "execution_count": null,
   "id": "d7074f4f-9617-4ecd-af9e-9b2149017a04",
   "metadata": {},
   "outputs": [],
   "source": [
    "# monthly averages of Seattle water temperature (°F)\n",
    "seattle_temps = [40.0, 40.6, 44.2, 48.4, 54.9, 60.2, 66.2, 66.7, 60.5, 52.0, 44.5, 39.6]\n",
    "months = [\"Jan\", \"Feb\", \"Mar\", \"Apr\", \"May\", \"Jun\", \"Jul\", \"Aug\", \"Sep\", \"Oct\", \"Nov\", \"Dec\"]"
   ]
  },
  {
   "cell_type": "code",
   "execution_count": null,
   "id": "d2ecf93c-8886-47ed-b348-185c9b920874",
   "metadata": {
    "editable": true,
    "slideshow": {
     "slide_type": ""
    },
    "tags": []
   },
   "outputs": [],
   "source": [
    "# Goal: calculate yearly average\n"
   ]
  },
  {
   "cell_type": "code",
   "execution_count": null,
   "id": "95e5a911-82c1-4172-99a3-4fc6b0f16d25",
   "metadata": {},
   "outputs": [],
   "source": [
    "# Goal: construct a list of monthly averages in celsius\n"
   ]
  },
  {
   "cell_type": "code",
   "execution_count": null,
   "id": "9f5dcf5e-1249-4260-b0e6-39d3a6fb025d",
   "metadata": {},
   "outputs": [],
   "source": [
    "# Finding hot temperatures\n",
    "hot = []\n",
    "\n",
    "for i in seattle_temps:\n",
    "    if i > 55:\n",
    "        hot.append(i)\n",
    "print(hot) "
   ]
  },
  {
   "cell_type": "code",
   "execution_count": null,
   "id": "a348b5c0-5097-4df6-be62-cd5b67469b89",
   "metadata": {
    "editable": true,
    "slideshow": {
     "slide_type": ""
    },
    "tags": []
   },
   "outputs": [],
   "source": [
    "# What if we also want the month that corresponds to the hot temperature?\n",
    "# There are a few ways to do this, but here's one using enumerate\n",
    "\n",
    "hot = []\n",
    "hot_months = []\n",
    "\n",
    "for i, j in enumerate(seattle_temps):\n",
    "    if j > 55:\n",
    "        hot.append(j)\n",
    "        hot_months.append(i+1) # Why do we use + 1 here?\n",
    "\n",
    "print(hot)\n",
    "print(hot_months)"
   ]
  },
  {
   "cell_type": "code",
   "execution_count": null,
   "id": "634e0a0a-3a97-4986-8146-0b8ce35ced0b",
   "metadata": {
    "editable": true,
    "slideshow": {
     "slide_type": ""
    },
    "tags": []
   },
   "outputs": [],
   "source": [
    "# alternative: extract the short names of hot months\n",
    "hot = []\n",
    "hot_months = []\n",
    "\n",
    "for i, j in enumerate(seattle_temps):\n",
    "    if j > 55:\n",
    "        hot.append(j)\n",
    "        hot_months.append(months[i])\n",
    "\n",
    "print(hot)\n",
    "print(hot_months)"
   ]
  },
  {
   "cell_type": "markdown",
   "id": "b3f1ddf4-4577-4fe1-9dd0-6e4c95aba59d",
   "metadata": {},
   "source": [
    "### Your turn #1\n",
    "Let's find the cold temperatures and the months for which that occurs. For our purpose, the temperature is cold if it is **less than** 45°F"
   ]
  },
  {
   "cell_type": "code",
   "execution_count": null,
   "id": "1741eab0-9e8a-48e1-9c63-e4e4c16aca03",
   "metadata": {},
   "outputs": [],
   "source": []
  },
  {
   "cell_type": "markdown",
   "id": "eb31feee-0cee-4fc0-9bd2-e84ba00bbab5",
   "metadata": {},
   "source": [
    "### Your turn #2\n",
    "\n",
    "Let's combine the previous steps: **using a single `for` loop**, generate the following:\n",
    "+ A list of hot temperatures\n",
    "+ A list of the corresponding hot months\n",
    "+ A list of cold temperatures\n",
    "+ A list of the corresponding cold months\n",
    "+ A list of moderate temperatures (moderate = neither hot nor cold)\n",
    "+ A list of the corresponding moderate months"
   ]
  },
  {
   "cell_type": "code",
   "execution_count": null,
   "id": "aa97376c-85d1-47aa-8c2e-4c8de2a2e66e",
   "metadata": {},
   "outputs": [],
   "source": []
  }
 ],
 "metadata": {
  "kernelspec": {
   "display_name": "Python 3 (ipykernel)",
   "language": "python",
   "name": "python3"
  },
  "language_info": {
   "codemirror_mode": {
    "name": "ipython",
    "version": 3
   },
   "file_extension": ".py",
   "mimetype": "text/x-python",
   "name": "python",
   "nbconvert_exporter": "python",
   "pygments_lexer": "ipython3",
   "version": "3.11.13"
  }
 },
 "nbformat": 4,
 "nbformat_minor": 5
}
