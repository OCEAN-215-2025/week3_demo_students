{
 "cells": [
  {
   "cell_type": "markdown",
   "id": "5deb7fcd-fc78-4c9b-aa5a-60d54e325c44",
   "metadata": {},
   "source": [
    "# Week 3 demos"
   ]
  },
  {
   "cell_type": "markdown",
   "id": "d435a511-2d8c-4b99-843c-099dbb0aa05e",
   "metadata": {},
   "source": [
    "## If/elif/else statements"
   ]
  },
  {
   "cell_type": "markdown",
   "id": "0629c35c-fce0-4ade-8a9a-77bb3809992b",
   "metadata": {},
   "source": [
    "<div style=\"color: #0000ff\">\n",
    "\n",
    "**Teaching notes**\n",
    "\n",
    "+ illustrate the difference between two independent `if` statements versus `if` + `elif` (e.g., via flowchart)\n",
    "+ The independent `if`'s statements are somewhat difficult. Give students time to think but it is OK if they don't get to the correct answer\n",
    "\n",
    "</div>"
   ]
  },
  {
   "cell_type": "markdown",
   "id": "22030ec6-f6a8-44e3-8bb0-384b0b550115",
   "metadata": {},
   "source": [
    "Simple `if` statement"
   ]
  },
  {
   "cell_type": "code",
   "execution_count": 1,
   "id": "639a41a8-8e76-4863-9b7a-edde58e6982b",
   "metadata": {},
   "outputs": [
    {
     "name": "stdout",
     "output_type": "stream",
     "text": [
      "Warning: heat alert!\n"
     ]
    }
   ],
   "source": [
    "temp = 35 # °C\n",
    "\n",
    "if temp > 30:\n",
    "    print(\"Warning: heat alert!\")"
   ]
  },
  {
   "cell_type": "markdown",
   "id": "fc58b2ee-4130-4e2b-9578-0774fe240882",
   "metadata": {},
   "source": [
    "Using both `if` and `else`"
   ]
  },
  {
   "cell_type": "code",
   "execution_count": 2,
   "id": "4f2e284c-972d-4a66-8b02-bfd9960050d2",
   "metadata": {},
   "outputs": [
    {
     "name": "stdout",
     "output_type": "stream",
     "text": [
      "Enjoy the weather\n"
     ]
    }
   ],
   "source": [
    "temp = 20 # °C\n",
    "\n",
    "if temp > 30:\n",
    "    print(\"Warning: heat alert!\")\n",
    "else:\n",
    "    print(\"Enjoy the weather\")"
   ]
  },
  {
   "cell_type": "markdown",
   "id": "580c459a-eda0-4eb1-9f62-f72bdf4e857d",
   "metadata": {},
   "source": [
    "Two independent `if` statements"
   ]
  },
  {
   "cell_type": "code",
   "execution_count": 3,
   "id": "8ecdc797-984a-4d83-a6e6-10f5efb3c58b",
   "metadata": {},
   "outputs": [
    {
     "name": "stdout",
     "output_type": "stream",
     "text": [
      "Warning: extreme cold!\n"
     ]
    }
   ],
   "source": [
    "temp = -10 # °C\n",
    "\n",
    "if temp > 30:\n",
    "    print(\"Warning: heat alert!\")\n",
    "\n",
    "if temp < -5:\n",
    "    print(\"Warning: extreme cold!\")"
   ]
  },
  {
   "cell_type": "markdown",
   "id": "9502e798-e9ae-4364-ba54-9e15bb94d362",
   "metadata": {},
   "source": [
    "Using `if`, `elif`, and `else`"
   ]
  },
  {
   "cell_type": "code",
   "execution_count": 4,
   "id": "ca9127aa-07ad-42d5-831c-40a8d201f230",
   "metadata": {},
   "outputs": [
    {
     "name": "stdout",
     "output_type": "stream",
     "text": [
      "Enjoy the weather\n"
     ]
    }
   ],
   "source": [
    "temp = 20 # °C\n",
    "\n",
    "if temp > 30:\n",
    "    print(\"Warning: heat alert!\")\n",
    "elif temp < -5:\n",
    "    print(\"Warning: extreme cold!\")\n",
    "else:\n",
    "    print(\"Enjoy the weather\")"
   ]
  },
  {
   "cell_type": "markdown",
   "id": "0ec58f0d-0c4a-4b9c-8d8e-bf773c696b6f",
   "metadata": {},
   "source": [
    "Conversion from numerical to letter grade in a _hypothetical_ class:"
   ]
  },
  {
   "cell_type": "code",
   "execution_count": 5,
   "id": "aff8eba0-b9d1-489e-8023-11166bc8de9e",
   "metadata": {},
   "outputs": [
    {
     "name": "stdout",
     "output_type": "stream",
     "text": [
      "You got a C\n"
     ]
    }
   ],
   "source": [
    "x = 75\n",
    "\n",
    "if x > 90:\n",
    "    print(\"You got an A\")\n",
    "elif x > 80:\n",
    "    print(\"You got a B\")\n",
    "elif x > 70:\n",
    "    print(\"You got a C\")\n",
    "else:\n",
    "    print(\"You got D or below\")"
   ]
  },
  {
   "cell_type": "markdown",
   "id": "69f877b2-48b6-450b-99ea-422776fc5ec3",
   "metadata": {},
   "source": [
    "### Pause and think #1\n",
    "Can you implement the same logic using only `if`'s?"
   ]
  },
  {
   "cell_type": "code",
   "execution_count": 6,
   "id": "e32e2700-3595-4daf-9334-a8b0f80e9e94",
   "metadata": {},
   "outputs": [
    {
     "name": "stdout",
     "output_type": "stream",
     "text": [
      "You got a C\n"
     ]
    }
   ],
   "source": [
    "# Answer\n",
    "\n",
    "x = 75\n",
    "\n",
    "if x > 90:\n",
    "    print(\"You got an A\")\n",
    "\n",
    "if x <= 90 and x > 80:\n",
    "    print(\"You got a B\")\n",
    "\n",
    "if x <= 80 and x > 70:\n",
    "    print(\"You got a C\")\n",
    "\n",
    "if x <= 70:\n",
    "    print(\"You got D or below\")"
   ]
  },
  {
   "cell_type": "markdown",
   "id": "21ea6e45-8a0c-4980-8297-2ed43c2ca069",
   "metadata": {},
   "source": [
    "### Poll #1 (think-pair-share; JupyterHub **off**)\n",
    "What is the output of the cell below?\n",
    "```python\n",
    "x = 3\n",
    "y = 4\n",
    "\n",
    "if x ** 2 < y:\n",
    "    print(\"x-squared is less than y\")\n",
    "else:\n",
    "    print(\"x squared is greater than or equal to y\")\n",
    "\n",
    "if x ** 2 > y:\n",
    "    print(\"x-squared is greater than y\")\n",
    "else:\n",
    "    print(\"x-squared is less than or equal to y\")\n",
    "```"
   ]
  },
  {
   "cell_type": "code",
   "execution_count": 7,
   "id": "692d35ed-09a5-4d54-8fc7-b1db9cf4bcca",
   "metadata": {},
   "outputs": [
    {
     "name": "stdout",
     "output_type": "stream",
     "text": [
      "x squared is greater than or equal to y\n",
      "x-squared is greater than y\n"
     ]
    }
   ],
   "source": [
    "x = 3\n",
    "y = 4\n",
    "\n",
    "if x ** 2 < y:\n",
    "    print(\"x-squared is less than y\")\n",
    "else:\n",
    "    print(\"x squared is greater than or equal to y\")\n",
    "\n",
    "if x ** 2 > y:\n",
    "    print(\"x-squared is greater than y\")\n",
    "else:\n",
    "    print(\"x-squared is less than or equal to y\")"
   ]
  },
  {
   "cell_type": "markdown",
   "id": "07b47119-0634-427f-af02-a3217487009c",
   "metadata": {},
   "source": [
    "**Lesson**: pay attention to which if/elif/else statements are independent, and which are sequential"
   ]
  },
  {
   "cell_type": "markdown",
   "id": "c0f51d76-390d-4ed8-87a2-176b72168f0f",
   "metadata": {},
   "source": [
    "### Poll #2 (think-pair-share)\n",
    "Run the following code and try changing the `rain_chance` variable. What range of values for `rain_chance` will trigger the `else` statement?\n",
    "\n",
    "```python\n",
    "if rain_chance >= 50:\n",
    "  print('Ugh... I better bring an umbrella.')\n",
    "elif rain_chance == 0:\n",
    "  print('I definitely will not need an umbrella.')\n",
    "elif rain_chance <= 20:\n",
    "  print('I should be okay without an umbrella.')\n",
    "else:\n",
    "  print('I am not sure what to do.')\n",
    "  ```"
   ]
  },
  {
   "cell_type": "code",
   "execution_count": 8,
   "id": "18579e2b-034d-44b6-acb4-7dcf14372d08",
   "metadata": {},
   "outputs": [
    {
     "name": "stdout",
     "output_type": "stream",
     "text": [
      "I should be okay without an umbrella.\n"
     ]
    }
   ],
   "source": [
    "rain_chance = 5   # i.e., a 5% chance of rain\n",
    "\n",
    "if rain_chance >= 50:\n",
    "  print('Ugh... I better bring an umbrella.')\n",
    "elif rain_chance == 0:\n",
    "  print('I definitely will not need an umbrella.')\n",
    "elif rain_chance <= 20:\n",
    "  print('I should be okay without an umbrella.')\n",
    "else:\n",
    "  print('I am not sure what to do.')"
   ]
  },
  {
   "cell_type": "markdown",
   "id": "54ec2982-d3e9-4011-9982-17de04c88352",
   "metadata": {},
   "source": [
    "**Answer**: the range is $20 < $ `rain_chance` $ < 50$"
   ]
  },
  {
   "cell_type": "markdown",
   "id": "306c9ea5-74ff-4366-b54a-a335e9a3659c",
   "metadata": {},
   "source": [
    "<div style=\"color: #ff0000\">\n",
    "\n",
    "**Time check**: ~ 30 minutes\n",
    "\n",
    "</div>"
   ]
  },
  {
   "cell_type": "markdown",
   "id": "0d6dc55c-c07c-4938-a091-46a9d18bedcf",
   "metadata": {},
   "source": [
    "## Range objects and loops"
   ]
  },
  {
   "cell_type": "markdown",
   "id": "eb3ace16-e0b6-42f9-a1c4-36b1221ad80a",
   "metadata": {},
   "source": [
    "<div style=\"color: #0000ff\">\n",
    "\n",
    "**Teaching notes**\n",
    "\n",
    "+ illustrate the difference between two independent `if` statements versus `if` + `elif` (e.g., via flowchart)\n",
    "+ The independent `if`'s statements are somewhat difficult. Give students time to think but it is OK if they don't get to the correct answer\n",
    "+ Finding yearly average (acculmulation) and mapping to celsius (mapping) are direct demos. Just construct the codes in real-time.\n",
    "+ Filtering hot temperatures (filter) is an example of combining loop and conditionals\n",
    "+ Hint for final question: use a compound conditional\n",
    "\n",
    "</div>"
   ]
  },
  {
   "cell_type": "code",
   "execution_count": 9,
   "id": "9000f3e1-e0cd-4198-9464-f2ff5ed085d8",
   "metadata": {},
   "outputs": [
    {
     "data": {
      "text/plain": [
       "\u001b[0;31mInit signature:\u001b[0m \u001b[0mrange\u001b[0m\u001b[0;34m(\u001b[0m\u001b[0mself\u001b[0m\u001b[0;34m,\u001b[0m \u001b[0;34m/\u001b[0m\u001b[0;34m,\u001b[0m \u001b[0;34m*\u001b[0m\u001b[0margs\u001b[0m\u001b[0;34m,\u001b[0m \u001b[0;34m**\u001b[0m\u001b[0mkwargs\u001b[0m\u001b[0;34m)\u001b[0m\u001b[0;34m\u001b[0m\u001b[0;34m\u001b[0m\u001b[0m\n",
       "\u001b[0;31mDocstring:\u001b[0m     \n",
       "range(stop) -> range object\n",
       "range(start, stop[, step]) -> range object\n",
       "\n",
       "Return an object that produces a sequence of integers from start (inclusive)\n",
       "to stop (exclusive) by step.  range(i, j) produces i, i+1, i+2, ..., j-1.\n",
       "start defaults to 0, and stop is omitted!  range(4) produces 0, 1, 2, 3.\n",
       "These are exactly the valid indices for a list of 4 elements.\n",
       "When step is given, it specifies the increment (or decrement).\n",
       "\u001b[0;31mType:\u001b[0m           type\n",
       "\u001b[0;31mSubclasses:\u001b[0m     "
      ]
     },
     "metadata": {},
     "output_type": "display_data"
    }
   ],
   "source": [
    "range?"
   ]
  },
  {
   "cell_type": "markdown",
   "id": "0cb60fca-b20b-4e86-bff3-37dd7c628273",
   "metadata": {},
   "source": [
    "**We use range often in for loops because it is immutable, simple, and doesn't take up RAM**"
   ]
  },
  {
   "cell_type": "code",
   "execution_count": 10,
   "id": "829fa4ee-334b-4595-b7cb-bf9529300a9b",
   "metadata": {},
   "outputs": [
    {
     "name": "stdout",
     "output_type": "stream",
     "text": [
      "0\n",
      "1\n",
      "2\n",
      "3\n",
      "4\n"
     ]
    }
   ],
   "source": [
    "for i in range(5): # Starts at 0, goes UP TO BUT DOES NOT INCLUDE 5\n",
    "    print(i)"
   ]
  },
  {
   "cell_type": "code",
   "execution_count": 11,
   "id": "94d04801-7070-4760-b536-ec7fafa93072",
   "metadata": {},
   "outputs": [
    {
     "name": "stdout",
     "output_type": "stream",
     "text": [
      "3\n",
      "4\n",
      "5\n",
      "6\n",
      "7\n",
      "8\n",
      "9\n"
     ]
    }
   ],
   "source": [
    "for i in range(3, 10): # Starts at 3, goes UP TO BUT DOES NOT INCLUDE 10\n",
    "    print(i)"
   ]
  },
  {
   "cell_type": "code",
   "execution_count": 12,
   "id": "d0f168fe-93d6-4a37-9349-bf4d5f7d6dae",
   "metadata": {},
   "outputs": [
    {
     "name": "stdout",
     "output_type": "stream",
     "text": [
      "0\n",
      "2\n",
      "4\n",
      "6\n",
      "8\n"
     ]
    }
   ],
   "source": [
    "for i in range(0, 10, 2): # Starts at 0, goes UP TO 10 BUT DOES NOT INCLUDE 10 by steps of 2\n",
    "    print(i)"
   ]
  },
  {
   "cell_type": "code",
   "execution_count": null,
   "id": "010ec01f-1b23-42b3-992c-c8dca34757d1",
   "metadata": {},
   "outputs": [],
   "source": [
    "# monthly averages of Seattle water temperature (°F)\n",
    "seattle_temps = [40.0, 40.6, 44.2, 48.4, 54.9, 60.2, 66.2, 66.7, 60.5, 52.0, 44.5, 39.6]"
   ]
  },
  {
   "cell_type": "code",
   "execution_count": null,
   "id": "d2ecf93c-8886-47ed-b348-185c9b920874",
   "metadata": {
    "editable": true,
    "slideshow": {
     "slide_type": ""
    },
    "tags": []
   },
   "outputs": [],
   "source": [
    "# Goal: calculate yearly average\n"
   ]
  },
  {
   "cell_type": "code",
   "execution_count": 14,
   "id": "0cf640c0-0f4d-48e0-952a-e361b98b25e3",
   "metadata": {},
   "outputs": [
    {
     "name": "stdout",
     "output_type": "stream",
     "text": [
      "617.8000000000001\n",
      "51.48333333333334\n"
     ]
    }
   ],
   "source": [
    "# Answer\n",
    "\n",
    "tot = 0 # initialize the sum\n",
    "for temp in seattle_temps:\n",
    "    tot += temp # Add successive temperatures to previous sum\n",
    "\n",
    "print(tot)\n",
    "\n",
    "avg = tot / len(seattle_temps) # calculate average\n",
    "print(avg)"
   ]
  },
  {
   "cell_type": "code",
   "execution_count": 15,
   "id": "95e5a911-82c1-4172-99a3-4fc6b0f16d25",
   "metadata": {},
   "outputs": [],
   "source": [
    "# Goal: construct a list of monthly averages in celsius\n"
   ]
  },
  {
   "cell_type": "code",
   "execution_count": 16,
   "id": "1ddef4c0-3e27-44e9-a823-dee66ef28f8b",
   "metadata": {},
   "outputs": [
    {
     "name": "stdout",
     "output_type": "stream",
     "text": [
      "[4.444, 4.778, 6.778, 9.111, 12.722, 15.667, 19.0, 19.278, 15.833, 11.111, 6.944, 4.222]\n"
     ]
    }
   ],
   "source": [
    "# Answer\n",
    "\n",
    "seattle_celsius = []\n",
    "for temp in seattle_temps:\n",
    "    temp_celsius = round((temp - 32) * 5 / 9, 3)\n",
    "    seattle_celsius.append(temp_celsius)\n",
    "\n",
    "print(seattle_celsius)"
   ]
  },
  {
   "cell_type": "code",
   "execution_count": 17,
   "id": "9f5dcf5e-1249-4260-b0e6-39d3a6fb025d",
   "metadata": {},
   "outputs": [
    {
     "name": "stdout",
     "output_type": "stream",
     "text": [
      "[60.2, 66.2, 66.7, 60.5]\n"
     ]
    }
   ],
   "source": [
    "# Finding hot temperatures\n",
    "hot = []\n",
    "\n",
    "for i in seattle_temps:\n",
    "    if i > 55:\n",
    "        hot.append(i)\n",
    "print(hot) "
   ]
  },
  {
   "cell_type": "code",
   "execution_count": 18,
   "id": "a348b5c0-5097-4df6-be62-cd5b67469b89",
   "metadata": {},
   "outputs": [
    {
     "name": "stdout",
     "output_type": "stream",
     "text": [
      "[60.2, 66.2, 66.7, 60.5]\n",
      "[6, 7, 8, 9]\n"
     ]
    }
   ],
   "source": [
    "# What if we also want the month that corresponds to the hot temperature?\n",
    "# There are a few ways to do this, but here's one using enumerate\n",
    "\n",
    "hot = []\n",
    "hot_months = []\n",
    "\n",
    "for i, j in enumerate(seattle_temps):\n",
    "    if j > 55:\n",
    "        hot.append(j)\n",
    "        hot_months.append(i+1) # Why do we use + 1 here?\n",
    "\n",
    "print(hot)\n",
    "print(hot_months)"
   ]
  },
  {
   "cell_type": "markdown",
   "id": "b3f1ddf4-4577-4fe1-9dd0-6e4c95aba59d",
   "metadata": {},
   "source": [
    "### Your turn #1\n",
    "Let's find the cold temperatures and the months for which that occurs. For our purpose, the temperature is cold if it is **less than** 45°F"
   ]
  },
  {
   "cell_type": "code",
   "execution_count": 19,
   "id": "47b6ce7e-4368-42cf-b640-2cbf4fe9d554",
   "metadata": {},
   "outputs": [
    {
     "name": "stdout",
     "output_type": "stream",
     "text": [
      "[40.0, 40.6, 44.2, 44.5, 39.6]\n",
      "[1, 2, 3, 11, 12]\n"
     ]
    }
   ],
   "source": [
    "# Answer\n",
    "\n",
    "cold = []\n",
    "cold_months = []\n",
    "\n",
    "for i, j in enumerate(seattle_temps):\n",
    "    if j < 45:\n",
    "        cold.append(j)\n",
    "        cold_months.append(i+1)\n",
    "\n",
    "print(cold)\n",
    "print(cold_months)"
   ]
  },
  {
   "cell_type": "markdown",
   "id": "eb31feee-0cee-4fc0-9bd2-e84ba00bbab5",
   "metadata": {},
   "source": [
    "### Your turn #2\n",
    "\n",
    "Let's combine the previous steps: **using a single `for` loop**, generate the following:\n",
    "+ A list of hot temperatures\n",
    "+ A list of the corresponding hot months\n",
    "+ A list of cold temperatures\n",
    "+ A list of the corresponding cold months\n",
    "+ A list of moderate temperatures (moderate = neither hot nor cold)\n",
    "+ A list of the corresponding moderate months"
   ]
  },
  {
   "cell_type": "code",
   "execution_count": 20,
   "id": "7fe994ef-793d-47ee-8048-d87997973c68",
   "metadata": {},
   "outputs": [
    {
     "name": "stdout",
     "output_type": "stream",
     "text": [
      "[48.4, 54.9, 52.0]\n",
      "[4, 5, 10]\n",
      "[60.2, 66.2, 66.7, 60.5]\n",
      "[6, 7, 8, 9]\n",
      "[40.0, 40.6, 44.2, 44.5, 39.6]\n",
      "[1, 2, 3, 11, 12]\n"
     ]
    }
   ],
   "source": [
    "# Answer\n",
    "\n",
    "moderate_temps = []\n",
    "moderate_months = []\n",
    "\n",
    "hot_temps = []\n",
    "hot_months = []\n",
    "\n",
    "cold_temps = []\n",
    "cold_months = []\n",
    "\n",
    "for i, j in enumerate(seattle_temps):\n",
    "    if j >= 45 and j <= 55:\n",
    "        moderate_temps.append(j)\n",
    "        moderate_months.append(i+1)\n",
    "    elif j > 55:\n",
    "        hot_temps.append(j)\n",
    "        hot_months.append(i+1)\n",
    "    else:\n",
    "        cold_temps.append(j)\n",
    "        cold_months.append(i+1)\n",
    "\n",
    "print(moderate_temps)\n",
    "print(moderate_months)\n",
    "\n",
    "print(hot_temps)\n",
    "print(hot_months)\n",
    "\n",
    "print(cold_temps)\n",
    "print(cold_months)"
   ]
  },
  {
   "cell_type": "markdown",
   "id": "53f0ead9-47a9-4873-97cf-9cc8216a26ea",
   "metadata": {},
   "source": [
    "<div style=\"color: #ff0000\">\n",
    "\n",
    "**Time check**: ~ 45 minutes\n",
    "\n",
    "</div>"
   ]
  },
  {
   "cell_type": "code",
   "execution_count": null,
   "id": "aa97376c-85d1-47aa-8c2e-4c8de2a2e66e",
   "metadata": {},
   "outputs": [],
   "source": []
  }
 ],
 "metadata": {
  "kernelspec": {
   "display_name": "Python 3 (ipykernel)",
   "language": "python",
   "name": "python3"
  },
  "language_info": {
   "codemirror_mode": {
    "name": "ipython",
    "version": 3
   },
   "file_extension": ".py",
   "mimetype": "text/x-python",
   "name": "python",
   "nbconvert_exporter": "python",
   "pygments_lexer": "ipython3",
   "version": "3.11.13"
  }
 },
 "nbformat": 4,
 "nbformat_minor": 5
}
