{
 "cells": [
  {
   "cell_type": "markdown",
   "id": "5deb7fcd-fc78-4c9b-aa5a-60d54e325c44",
   "metadata": {},
   "source": [
    "# Week 3 demos"
   ]
  },
  {
   "cell_type": "markdown",
   "id": "40a453fd-9446-47d8-999b-072e799fe67b",
   "metadata": {},
   "source": [
    "## Debugging example"
   ]
  },
  {
   "cell_type": "code",
   "execution_count": 1,
   "id": "0c1aba56-a786-4aad-9614-127057982160",
   "metadata": {},
   "outputs": [
    {
     "ename": "TypeError",
     "evalue": "str() argument 'encoding' must be str, not int",
     "output_type": "error",
     "traceback": [
      "\u001b[0;31m---------------------------------------------------------------------------\u001b[0m",
      "\u001b[0;31mTypeError\u001b[0m                                 Traceback (most recent call last)",
      "Cell \u001b[0;32mIn[1], line 4\u001b[0m\n\u001b[1;32m      1\u001b[0m speed \u001b[38;5;241m=\u001b[39m \u001b[38;5;241m1.79\u001b[39m \u001b[38;5;66;03m# m/s\u001b[39;00m\n\u001b[1;32m      2\u001b[0m time \u001b[38;5;241m=\u001b[39m \u001b[38;5;241m3600\u001b[39m \u001b[38;5;66;03m# 1 hour = 3600 s\u001b[39;00m\n\u001b[0;32m----> 4\u001b[0m \u001b[38;5;28mprint\u001b[39m(\u001b[38;5;124m\"\u001b[39m\u001b[38;5;124mdistance travelled = \u001b[39m\u001b[38;5;124m\"\u001b[39m \u001b[38;5;241m+\u001b[39m \u001b[38;5;28mround\u001b[39m(\u001b[38;5;28;43mstr\u001b[39;49m\u001b[43m(\u001b[49m\u001b[43mspeed\u001b[49m\u001b[43m \u001b[49m\u001b[38;5;241;43m*\u001b[39;49m\u001b[43m \u001b[49m\u001b[43mtime\u001b[49m\u001b[43m \u001b[49m\u001b[38;5;241;43m/\u001b[39;49m\u001b[43m \u001b[49m\u001b[38;5;241;43m1000\u001b[39;49m\u001b[43m,\u001b[49m\u001b[43m \u001b[49m\u001b[38;5;241;43m2\u001b[39;49m\u001b[43m)\u001b[49m) \u001b[38;5;241m+\u001b[39m \u001b[38;5;124m\"\u001b[39m\u001b[38;5;124m km\u001b[39m\u001b[38;5;124m\"\u001b[39m)\n",
      "\u001b[0;31mTypeError\u001b[0m: str() argument 'encoding' must be str, not int"
     ]
    }
   ],
   "source": [
    "speed = 1.79 # m/s\n",
    "time = 3600 # 1 hour = 3600 s\n",
    "\n",
    "print(\"distance travelled = \" + round(str(speed * time / 1000, 2)) + \" km\")"
   ]
  },
  {
   "cell_type": "code",
   "execution_count": 5,
   "id": "fbe33da2-eb22-4de6-90b7-340283a2d2ca",
   "metadata": {},
   "outputs": [
    {
     "ename": "TypeError",
     "evalue": "type str doesn't define __round__ method",
     "output_type": "error",
     "traceback": [
      "\u001b[0;31m---------------------------------------------------------------------------\u001b[0m",
      "\u001b[0;31mTypeError\u001b[0m                                 Traceback (most recent call last)",
      "Cell \u001b[0;32mIn[5], line 4\u001b[0m\n\u001b[1;32m      1\u001b[0m speed \u001b[38;5;241m=\u001b[39m \u001b[38;5;241m1.79\u001b[39m \u001b[38;5;66;03m# m/s\u001b[39;00m\n\u001b[1;32m      2\u001b[0m time \u001b[38;5;241m=\u001b[39m \u001b[38;5;241m3600\u001b[39m \u001b[38;5;66;03m# 1 hour = 3600 s\u001b[39;00m\n\u001b[0;32m----> 4\u001b[0m \u001b[38;5;28;43mround\u001b[39;49m\u001b[43m(\u001b[49m\u001b[38;5;28;43mstr\u001b[39;49m\u001b[43m(\u001b[49m\u001b[43mspeed\u001b[49m\u001b[43m \u001b[49m\u001b[38;5;241;43m*\u001b[39;49m\u001b[43m \u001b[49m\u001b[43mtime\u001b[49m\u001b[43m \u001b[49m\u001b[38;5;241;43m/\u001b[39;49m\u001b[43m \u001b[49m\u001b[38;5;241;43m1000\u001b[39;49m\u001b[43m)\u001b[49m\u001b[43m,\u001b[49m\u001b[43m \u001b[49m\u001b[38;5;241;43m2\u001b[39;49m\u001b[43m)\u001b[49m\n\u001b[1;32m      6\u001b[0m \u001b[38;5;66;03m#print(\"distance travelled = \" + round(str(speed * time / 1000, 2)) + \" km\")\u001b[39;00m\n",
      "\u001b[0;31mTypeError\u001b[0m: type str doesn't define __round__ method"
     ]
    }
   ],
   "source": [
    "speed = 1.79 # m/s\n",
    "time = 3600 # 1 hour = 3600 s\n",
    "\n",
    "round(str(speed * time / 1000), 2)\n",
    "\n",
    "#print(\"distance travelled = \" + round(str(speed * time / 1000, 2)) + \" km\")"
   ]
  },
  {
   "cell_type": "code",
   "execution_count": 15,
   "id": "0d32f245-e219-4a66-98d7-f706b6933782",
   "metadata": {},
   "outputs": [
    {
     "name": "stdout",
     "output_type": "stream",
     "text": [
      "6.44\n",
      "distance travelled = 6.44 km\n"
     ]
    }
   ],
   "source": [
    "speed = 1.79 # m/s\n",
    "time = 3600 # 1 hour = 3600 s\n",
    "\n",
    "print(round(speed * time / 1000, 2))\n",
    "\n",
    "# round(str(speed * time / 1000), 2)\n",
    "\n",
    "# \"distance travelled = \" + round(speed * time / 1000) + \" km\"\n",
    "\n",
    "print(\"distance travelled = \" + str(round(speed * time / 1000, 2)) + \" km\")"
   ]
  },
  {
   "cell_type": "markdown",
   "id": "d435a511-2d8c-4b99-843c-099dbb0aa05e",
   "metadata": {},
   "source": [
    "## If/elif/else statements"
   ]
  },
  {
   "cell_type": "markdown",
   "id": "22030ec6-f6a8-44e3-8bb0-384b0b550115",
   "metadata": {},
   "source": [
    "Simple `if` statement"
   ]
  },
  {
   "cell_type": "code",
   "execution_count": 16,
   "id": "639a41a8-8e76-4863-9b7a-edde58e6982b",
   "metadata": {},
   "outputs": [
    {
     "name": "stdout",
     "output_type": "stream",
     "text": [
      "Warning: heat alert!\n"
     ]
    }
   ],
   "source": [
    "temp = 35 # °C\n",
    "\n",
    "if temp > 30:\n",
    "    print(\"Warning: heat alert!\")"
   ]
  },
  {
   "cell_type": "markdown",
   "id": "fc58b2ee-4130-4e2b-9578-0774fe240882",
   "metadata": {},
   "source": [
    "Using both `if` and `else`"
   ]
  },
  {
   "cell_type": "code",
   "execution_count": 17,
   "id": "4f2e284c-972d-4a66-8b02-bfd9960050d2",
   "metadata": {},
   "outputs": [
    {
     "name": "stdout",
     "output_type": "stream",
     "text": [
      "Enjoy the weather\n"
     ]
    }
   ],
   "source": [
    "temp = 20 # °C\n",
    "\n",
    "if temp > 30:\n",
    "    print(\"Warning: heat alert!\")\n",
    "else:\n",
    "    print(\"Enjoy the weather\")"
   ]
  },
  {
   "cell_type": "markdown",
   "id": "580c459a-eda0-4eb1-9f62-f72bdf4e857d",
   "metadata": {},
   "source": [
    "Two independent `if` statements"
   ]
  },
  {
   "cell_type": "code",
   "execution_count": 18,
   "id": "b5a1c963-adac-4ad5-a0c1-42955be12b92",
   "metadata": {},
   "outputs": [
    {
     "name": "stdout",
     "output_type": "stream",
     "text": [
      "Warning: extreme cold!\n"
     ]
    }
   ],
   "source": [
    "temp = -10 # °C\n",
    "\n",
    "if temp > 30:\n",
    "    print(\"Warning: heat alert!\")\n",
    "\n",
    "if temp < -5:\n",
    "    print(\"Warning: extreme cold!\")"
   ]
  },
  {
   "cell_type": "markdown",
   "id": "4919d49b-2ebc-4a4b-9f2f-581a0530c508",
   "metadata": {},
   "source": [
    "Alternative: using `elif`"
   ]
  },
  {
   "cell_type": "code",
   "execution_count": 19,
   "id": "cf1772a9-cc22-4a34-aecb-cc630cb7f207",
   "metadata": {},
   "outputs": [
    {
     "name": "stdout",
     "output_type": "stream",
     "text": [
      "Warning: extreme cold!\n"
     ]
    }
   ],
   "source": [
    "temp = -10 # °C\n",
    "\n",
    "if temp > 30:\n",
    "    print(\"Warning: heat alert!\")\n",
    "elif temp < -5:\n",
    "    print(\"Warning: extreme cold!\")"
   ]
  },
  {
   "cell_type": "markdown",
   "id": "144660ae-3521-485e-9a1a-8a400760dbc0",
   "metadata": {
    "editable": true,
    "slideshow": {
     "slide_type": ""
    },
    "tags": []
   },
   "source": [
    "### Poll #1 (think-pair-share, debugging)\n",
    "\n",
    "The code below is meant to print a different message depending on temperature. It will either warn that the temperature is too hot, too cold, or say that the temperature is moderate.\n",
    "\n",
    "As shown below the code does not work as intended. Identify what problem(s) the code may have\n",
    "\n",
    "(Optional) If time permits, also consider how you might fix the code"
   ]
  },
  {
   "cell_type": "code",
   "execution_count": 20,
   "id": "598a6d11-52c1-46d6-ae49-595da76a4aa1",
   "metadata": {
    "editable": true,
    "slideshow": {
     "slide_type": ""
    },
    "tags": [
     "raises-exception"
    ]
   },
   "outputs": [
    {
     "name": "stdout",
     "output_type": "stream",
     "text": [
      "The temperature is moderate\n",
      "The temperature is moderate\n"
     ]
    }
   ],
   "source": [
    "# fixing the runtime error\n",
    "\n",
    "temp = 20 # °C\n",
    "\n",
    "if temp > 30:\n",
    "    print(\"Warning: heat alert!\")\n",
    "else:\n",
    "    print(\"The temperature is moderate\")\n",
    "\n",
    "if temp < -5:\n",
    "    print(\"Warning: extreme cold!\")\n",
    "else:\n",
    "    print(\"The temperature is moderate\")"
   ]
  },
  {
   "cell_type": "code",
   "execution_count": 21,
   "id": "4d89384f-b3c4-4a86-96a1-e1936d28a829",
   "metadata": {
    "editable": true,
    "slideshow": {
     "slide_type": ""
    },
    "tags": [
     "raises-exception"
    ]
   },
   "outputs": [
    {
     "name": "stdout",
     "output_type": "stream",
     "text": [
      "The temperature is moderate\n"
     ]
    }
   ],
   "source": [
    "# fixing also the logic error\n",
    "\n",
    "temp = 20 # °C\n",
    "\n",
    "if temp > 30:\n",
    "    print(\"Warning: heat alert!\")\n",
    "elif temp < -5:\n",
    "    print(\"Warning: extreme cold!\")\n",
    "else:\n",
    "    print(\"The temperature is moderate\")"
   ]
  },
  {
   "cell_type": "markdown",
   "id": "f403e486-3c48-48b7-ae35-f6042661a484",
   "metadata": {},
   "source": [
    "### Poll #2 (think-pair-share; JupyterHub **off**)\n",
    "What is the output of the cell below?\n",
    "```python\n",
    "x = 2\n",
    "y = -1\n",
    "\n",
    "if y < 0:\n",
    "    print(\"x-squared is greater than y\")\n",
    "else:\n",
    "    if x ** 2 < y:\n",
    "        print(\"x-squared is less than y\")\n",
    "    elif x ** 2 == y:\n",
    "        print(\"x-squared is equal to y\")\n",
    "    else:\n",
    "        print(\"x-squared is greater than y\")\n",
    "```"
   ]
  },
  {
   "cell_type": "code",
   "execution_count": 24,
   "id": "8249d2e1-00f9-4825-8f9c-126eacba9c3b",
   "metadata": {},
   "outputs": [
    {
     "name": "stdout",
     "output_type": "stream",
     "text": [
      "x-squared is greater than y v.2\n"
     ]
    }
   ],
   "source": [
    "x = 2\n",
    "y = 1\n",
    "\n",
    "if y < 0:\n",
    "    print(\"x-squared is greater than y v.1\")\n",
    "else:\n",
    "    if x ** 2 < y:\n",
    "        print(\"x-squared is less than y\")\n",
    "    elif x ** 2 == y:\n",
    "        print(\"x-squared is equal to y\")\n",
    "    else:\n",
    "        print(\"x-squared is greater than y v.2\")"
   ]
  },
  {
   "cell_type": "markdown",
   "id": "c0f51d76-390d-4ed8-87a2-176b72168f0f",
   "metadata": {},
   "source": [
    "### Poll #3 (think-pair-share)\n",
    "Run the following code and try changing the `rain_chance` variable. What range of values for `rain_chance` will trigger the `else` statement?"
   ]
  },
  {
   "cell_type": "code",
   "execution_count": null,
   "id": "ea696da8-346f-494e-8348-0791b84f4314",
   "metadata": {},
   "outputs": [],
   "source": [
    "rain_chance = ... # chance in percentage\n",
    "\n",
    "if rain_chance >= 50:\n",
    "  print('Ugh... I better bring an umbrella.')\n",
    "elif rain_chance == 0:\n",
    "  print('I definitely will not need an umbrella.')\n",
    "elif rain_chance <= 20:\n",
    "  print('I should be okay without an umbrella.')\n",
    "else:\n",
    "  print('I am not sure what to do.')"
   ]
  },
  {
   "cell_type": "markdown",
   "id": "0d6dc55c-c07c-4938-a091-46a9d18bedcf",
   "metadata": {},
   "source": [
    "## Range objects and loops"
   ]
  },
  {
   "cell_type": "code",
   "execution_count": 25,
   "id": "9000f3e1-e0cd-4198-9464-f2ff5ed085d8",
   "metadata": {},
   "outputs": [
    {
     "data": {
      "text/plain": [
       "\u001b[0;31mInit signature:\u001b[0m \u001b[0mrange\u001b[0m\u001b[0;34m(\u001b[0m\u001b[0mself\u001b[0m\u001b[0;34m,\u001b[0m \u001b[0;34m/\u001b[0m\u001b[0;34m,\u001b[0m \u001b[0;34m*\u001b[0m\u001b[0margs\u001b[0m\u001b[0;34m,\u001b[0m \u001b[0;34m**\u001b[0m\u001b[0mkwargs\u001b[0m\u001b[0;34m)\u001b[0m\u001b[0;34m\u001b[0m\u001b[0;34m\u001b[0m\u001b[0m\n",
       "\u001b[0;31mDocstring:\u001b[0m     \n",
       "range(stop) -> range object\n",
       "range(start, stop[, step]) -> range object\n",
       "\n",
       "Return an object that produces a sequence of integers from start (inclusive)\n",
       "to stop (exclusive) by step.  range(i, j) produces i, i+1, i+2, ..., j-1.\n",
       "start defaults to 0, and stop is omitted!  range(4) produces 0, 1, 2, 3.\n",
       "These are exactly the valid indices for a list of 4 elements.\n",
       "When step is given, it specifies the increment (or decrement).\n",
       "\u001b[0;31mType:\u001b[0m           type\n",
       "\u001b[0;31mSubclasses:\u001b[0m     "
      ]
     },
     "metadata": {},
     "output_type": "display_data"
    }
   ],
   "source": [
    "range?"
   ]
  },
  {
   "cell_type": "markdown",
   "id": "0cb60fca-b20b-4e86-bff3-37dd7c628273",
   "metadata": {},
   "source": [
    "**We use range often in for loops because it is immutable, simple, and doesn't take up RAM**"
   ]
  },
  {
   "cell_type": "code",
   "execution_count": 26,
   "id": "829fa4ee-334b-4595-b7cb-bf9529300a9b",
   "metadata": {},
   "outputs": [
    {
     "name": "stdout",
     "output_type": "stream",
     "text": [
      "0\n",
      "1\n",
      "2\n",
      "3\n",
      "4\n"
     ]
    }
   ],
   "source": [
    "for i in range(5): # Starts at 0, goes UP TO BUT DOES NOT INCLUDE 5\n",
    "    print(i)"
   ]
  },
  {
   "cell_type": "code",
   "execution_count": 27,
   "id": "94d04801-7070-4760-b536-ec7fafa93072",
   "metadata": {},
   "outputs": [
    {
     "name": "stdout",
     "output_type": "stream",
     "text": [
      "3\n",
      "4\n",
      "5\n",
      "6\n",
      "7\n",
      "8\n",
      "9\n"
     ]
    }
   ],
   "source": [
    "for i in range(3, 10): # Starts at 3, goes UP TO BUT DOES NOT INCLUDE 10\n",
    "    print(i)"
   ]
  },
  {
   "cell_type": "code",
   "execution_count": 28,
   "id": "d0f168fe-93d6-4a37-9349-bf4d5f7d6dae",
   "metadata": {},
   "outputs": [
    {
     "name": "stdout",
     "output_type": "stream",
     "text": [
      "0\n",
      "2\n",
      "4\n",
      "6\n",
      "8\n"
     ]
    }
   ],
   "source": [
    "for i in range(0, 10, 2): # Starts at 0, goes UP TO 10 BUT DOES NOT INCLUDE 10 by steps of 2\n",
    "    print(i)"
   ]
  },
  {
   "cell_type": "code",
   "execution_count": 29,
   "id": "d7074f4f-9617-4ecd-af9e-9b2149017a04",
   "metadata": {},
   "outputs": [],
   "source": [
    "# monthly averages of Seattle water temperature (°F)\n",
    "seattle_temps = [40.0, 40.6, 44.2, 48.4, 54.9, 60.2, 66.2, 66.7, 60.5, 52.0, 44.5, 39.6]\n",
    "months = [\"Jan\", \"Feb\", \"Mar\", \"Apr\", \"May\", \"Jun\", \"Jul\", \"Aug\", \"Sep\", \"Oct\", \"Nov\", \"Dec\"]"
   ]
  },
  {
   "cell_type": "code",
   "execution_count": 31,
   "id": "d2ecf93c-8886-47ed-b348-185c9b920874",
   "metadata": {
    "editable": true,
    "slideshow": {
     "slide_type": ""
    },
    "tags": []
   },
   "outputs": [
    {
     "name": "stdout",
     "output_type": "stream",
     "text": [
      "51.48333333333334\n"
     ]
    }
   ],
   "source": [
    "# Goal: calculate yearly average\n",
    "temp_sum = 0\n",
    "\n",
    "for x in seattle_temps:\n",
    "    temp_sum = temp_sum + x\n",
    "\n",
    "average_temp = temp_sum / len(seattle_temps)\n",
    "print(average_temp)"
   ]
  },
  {
   "cell_type": "code",
   "execution_count": 32,
   "id": "95e5a911-82c1-4172-99a3-4fc6b0f16d25",
   "metadata": {},
   "outputs": [
    {
     "name": "stdout",
     "output_type": "stream",
     "text": [
      "[4.444444444444445, 4.777777777777779, 6.7777777777777795, 9.11111111111111, 12.722222222222221, 15.666666666666666, 19.0, 19.27777777777778, 15.833333333333334, 11.11111111111111, 6.944444444444445, 4.222222222222223]\n"
     ]
    }
   ],
   "source": [
    "# Goal: construct a list of monthly averages in celsius\n",
    "seattle_temps_C = []\n",
    "\n",
    "for x_F in seattle_temps:\n",
    "    x_C = (x_F - 32.0) * 5 / 9\n",
    "    seattle_temps_C.append(x_C)\n",
    "\n",
    "print(seattle_temps_C)"
   ]
  },
  {
   "cell_type": "code",
   "execution_count": 33,
   "id": "9f5dcf5e-1249-4260-b0e6-39d3a6fb025d",
   "metadata": {},
   "outputs": [
    {
     "name": "stdout",
     "output_type": "stream",
     "text": [
      "[60.2, 66.2, 66.7, 60.5]\n"
     ]
    }
   ],
   "source": [
    "# Finding hot temperatures\n",
    "hot = []\n",
    "\n",
    "for i in seattle_temps:\n",
    "    if i > 55:\n",
    "        hot.append(i)\n",
    "\n",
    "print(hot) "
   ]
  },
  {
   "cell_type": "code",
   "execution_count": 34,
   "id": "634e0a0a-3a97-4986-8146-0b8ce35ced0b",
   "metadata": {
    "editable": true,
    "slideshow": {
     "slide_type": ""
    },
    "tags": []
   },
   "outputs": [
    {
     "name": "stdout",
     "output_type": "stream",
     "text": [
      "[60.2, 66.2, 66.7, 60.5]\n",
      "['Jun', 'Jul', 'Aug', 'Sep']\n"
     ]
    }
   ],
   "source": [
    "# alternative: extract the short names of hot months\n",
    "hot = []\n",
    "hot_months = []\n",
    "\n",
    "for i, temp in enumerate(seattle_temps):\n",
    "    if temp > 55:\n",
    "        hot.append(temp)\n",
    "        hot_months.append(months[i])\n",
    "\n",
    "print(hot)\n",
    "print(hot_months)"
   ]
  },
  {
   "cell_type": "code",
   "execution_count": 35,
   "id": "a348b5c0-5097-4df6-be62-cd5b67469b89",
   "metadata": {
    "editable": true,
    "slideshow": {
     "slide_type": ""
    },
    "tags": []
   },
   "outputs": [
    {
     "name": "stdout",
     "output_type": "stream",
     "text": [
      "[60.2, 66.2, 66.7, 60.5]\n",
      "[6, 7, 8, 9]\n"
     ]
    }
   ],
   "source": [
    "# What if we also want the month that corresponds to the hot temperature?\n",
    "# There are a few ways to do this, but here's one using enumerate\n",
    "\n",
    "hot = []\n",
    "hot_months = []\n",
    "\n",
    "for i, j in enumerate(seattle_temps):\n",
    "    if j > 55:\n",
    "        hot.append(j)\n",
    "        hot_months.append(i+1) # Why do we use + 1 here?\n",
    "\n",
    "print(hot)\n",
    "print(hot_months)"
   ]
  },
  {
   "cell_type": "markdown",
   "id": "b3f1ddf4-4577-4fe1-9dd0-6e4c95aba59d",
   "metadata": {},
   "source": [
    "### Your turn #1\n",
    "Let's find the cold temperatures and the months for which that occurs. For our purpose, the temperature is cold if it is **less than** 45°F"
   ]
  },
  {
   "cell_type": "code",
   "execution_count": 36,
   "id": "3c0b1700-ed99-455c-838f-ba00883dfb61",
   "metadata": {
    "editable": true,
    "slideshow": {
     "slide_type": ""
    },
    "tags": []
   },
   "outputs": [
    {
     "name": "stdout",
     "output_type": "stream",
     "text": [
      "[39.6, 39.6, 39.6, 39.6, 39.6]\n",
      "[1, 2, 3, 11, 12]\n"
     ]
    }
   ],
   "source": [
    "# What if we also want the month that corresponds to the hot temperature?\n",
    "# There are a few ways to do this, but here's one using enumerate\n",
    "\n",
    "cold = []\n",
    "cold_months = []\n",
    "\n",
    "for i, temp in enumerate(seattle_temps):\n",
    "    if temp < 45:\n",
    "        cold.append(j)\n",
    "        cold_months.append(i+1) # Why do we use + 1 here?\n",
    "\n",
    "print(cold)\n",
    "print(cold_months)"
   ]
  },
  {
   "cell_type": "code",
   "execution_count": null,
   "id": "1741eab0-9e8a-48e1-9c63-e4e4c16aca03",
   "metadata": {},
   "outputs": [],
   "source": []
  },
  {
   "cell_type": "markdown",
   "id": "eb31feee-0cee-4fc0-9bd2-e84ba00bbab5",
   "metadata": {},
   "source": [
    "### Your turn #2\n",
    "\n",
    "Let's combine the previous steps: **using a single `for` loop**, generate the following:\n",
    "+ A list of hot temperatures\n",
    "+ A list of the corresponding hot months\n",
    "+ A list of cold temperatures\n",
    "+ A list of the corresponding cold months\n",
    "+ A list of moderate temperatures (moderate = neither hot nor cold)\n",
    "+ A list of the corresponding moderate months"
   ]
  },
  {
   "cell_type": "code",
   "execution_count": 42,
   "id": "aa97376c-85d1-47aa-8c2e-4c8de2a2e66e",
   "metadata": {},
   "outputs": [
    {
     "name": "stdout",
     "output_type": "stream",
     "text": [
      "[60.2, 66.2, 66.7, 60.5]\n",
      "[6, 7, 8, 9]\n",
      "[40.0, 40.6, 44.2, 44.5, 39.6]\n",
      "[1, 2, 3, 11, 12]\n",
      "[48.4, 54.9, 52.0]\n",
      "[4, 5, 10]\n"
     ]
    }
   ],
   "source": [
    "hot = []\n",
    "hot_months = []\n",
    "cold = []\n",
    "cold_months = []\n",
    "moderate = []\n",
    "moderate_months = []\n",
    "\n",
    "for i, temp in enumerate(seattle_temps):\n",
    "    if temp > 55:\n",
    "        hot.append(temp)\n",
    "        hot_months.append(i+1) # Why do we use + 1 here?\n",
    "    elif temp < 45:\n",
    "        cold.append(temp)\n",
    "        cold_months.append(i+1) # Why do we use + 1 here?\n",
    "    else:\n",
    "        moderate.append(temp)\n",
    "        moderate_months.append(i+1)\n",
    "\n",
    "print(hot)\n",
    "print(hot_months)\n",
    "print(cold)\n",
    "print(cold_months)\n",
    "print(moderate)\n",
    "print(moderate_months)"
   ]
  },
  {
   "cell_type": "code",
   "execution_count": null,
   "id": "0b604264-4762-4ad3-803f-7812cac135ae",
   "metadata": {},
   "outputs": [],
   "source": []
  }
 ],
 "metadata": {
  "kernelspec": {
   "display_name": "Python 3 (ipykernel)",
   "language": "python",
   "name": "python3"
  },
  "language_info": {
   "codemirror_mode": {
    "name": "ipython",
    "version": 3
   },
   "file_extension": ".py",
   "mimetype": "text/x-python",
   "name": "python",
   "nbconvert_exporter": "python",
   "pygments_lexer": "ipython3",
   "version": "3.11.13"
  }
 },
 "nbformat": 4,
 "nbformat_minor": 5
}
